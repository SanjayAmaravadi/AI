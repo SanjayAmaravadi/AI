{
 "cells": [
  {
   "cell_type": "markdown",
   "id": "448ec062",
   "metadata": {},
   "source": [
    "**Rabbit Leap Problem Using DFS and BFS**"
   ]
  },
  {
   "cell_type": "code",
   "execution_count": 4,
   "id": "9da286aa",
   "metadata": {},
   "outputs": [],
   "source": [
    "class RabbitState:\n",
    "    def __init__(self, pos):\n",
    "        self.pos = pos  # list of 7 items\n",
    "\n",
    "    def goalTest(self):\n",
    "        return self.pos == ['R', 'R', 'R', '_', 'L', 'L', 'L']\n",
    "\n",
    "    def moveGen(self):\n",
    "        children = []\n",
    "        for i in range(7):\n",
    "            if self.pos[i] not in ['L', 'R']:\n",
    "                continue\n",
    "            direction = 1 if self.pos[i] == 'L' else -1\n",
    "            for step in [1, 2]:\n",
    "                j = i + step * direction\n",
    "                if 0 <= j < 7 and self.pos[j] == '_':\n",
    "                    if step == 2:\n",
    "                        mid = i + direction\n",
    "                        if self.pos[mid] == self.pos[i]:\n",
    "                            continue\n",
    "                    new_pos = self.pos[:]\n",
    "                    new_pos[i], new_pos[j] = new_pos[j], new_pos[i]\n",
    "                    children.append(RabbitState(new_pos))\n",
    "        return children\n",
    "\n",
    "    def __eq__(self, other):\n",
    "        return self.pos == other.pos\n",
    "\n",
    "    def __hash__(self):\n",
    "        return hash(''.join(self.pos))\n",
    "\n",
    "    def __str__(self):\n",
    "        return ''.join(self.pos)\n"
   ]
  },
  {
   "cell_type": "markdown",
   "id": "75b1b214",
   "metadata": {},
   "source": [
    "**DFS**"
   ]
  },
  {
   "cell_type": "code",
   "execution_count": 5,
   "id": "ddd21e45",
   "metadata": {},
   "outputs": [],
   "source": [
    "def rabbit_dfs(state, visited=None, path=None):\n",
    "    if visited is None:\n",
    "        visited = set()\n",
    "    if path is None:\n",
    "        path = []\n",
    "    if str(state) in visited:\n",
    "        return None\n",
    "    visited.add(str(state))\n",
    "    path.append(state)\n",
    "    if state.goalTest():\n",
    "        return path\n",
    "    for child in state.moveGen():\n",
    "        result = rabbit_dfs(child, visited.copy(), path[:])\n",
    "        if result:\n",
    "            return result\n",
    "    return None"
   ]
  },
  {
   "cell_type": "markdown",
   "id": "98b1fe0f",
   "metadata": {},
   "source": [
    "**BFS**"
   ]
  },
  {
   "cell_type": "code",
   "execution_count": 9,
   "id": "821c5b14",
   "metadata": {},
   "outputs": [],
   "source": [
    "def rabbit_bfs(start):\n",
    "    queue = [(start, [start])]\n",
    "    visited = set()\n",
    "    while queue:\n",
    "        state, path = queue.pop(0)\n",
    "        if str(state) in visited:\n",
    "            continue\n",
    "        visited.add(str(state))\n",
    "        if state.goalTest():\n",
    "            return path\n",
    "        for child in state.moveGen():\n",
    "            queue.append((child, path + [child]))\n",
    "    return None"
   ]
  },
  {
   "cell_type": "markdown",
   "id": "757573bd",
   "metadata": {},
   "source": [
    "Using DFS"
   ]
  },
  {
   "cell_type": "code",
   "execution_count": 11,
   "id": "185c5913",
   "metadata": {},
   "outputs": [
    {
     "name": "stdout",
     "output_type": "stream",
     "text": [
      "Rabbit DFS Solution:\n",
      "LLL_RRR\n",
      "LL_LRRR\n",
      "LLRL_RR\n",
      "LLRLR_R\n",
      "LLR_RLR\n",
      "L_RLRLR\n",
      "_LRLRLR\n",
      "RL_LRLR\n",
      "RLRL_LR\n",
      "RLRLRL_\n",
      "RLRLR_L\n",
      "RLR_RLL\n",
      "R_RLRLL\n",
      "RR_LRLL\n",
      "RRRL_LL\n",
      "RRR_LLL\n"
     ]
    }
   ],
   "source": [
    "start = RabbitState(['L', 'L', 'L', '_', 'R', 'R', 'R'])\n",
    "solution = rabbit_dfs(start)\n",
    "print(\"Rabbit DFS Solution:\")\n",
    "for s in solution:\n",
    "    print(s)"
   ]
  },
  {
   "cell_type": "markdown",
   "id": "6a9629d6",
   "metadata": {},
   "source": [
    "Using BFS"
   ]
  },
  {
   "cell_type": "code",
   "execution_count": 10,
   "id": "7391e5e9",
   "metadata": {},
   "outputs": [
    {
     "name": "stdout",
     "output_type": "stream",
     "text": [
      "Rabbit BFS Solution:\n",
      "LLL_RRR\n",
      "LL_LRRR\n",
      "LLRL_RR\n",
      "LLRLR_R\n",
      "LLR_RLR\n",
      "L_RLRLR\n",
      "_LRLRLR\n",
      "RL_LRLR\n",
      "RLRL_LR\n",
      "RLRLRL_\n",
      "RLRLR_L\n",
      "RLR_RLL\n",
      "R_RLRLL\n",
      "RR_LRLL\n",
      "RRRL_LL\n",
      "RRR_LLL\n"
     ]
    }
   ],
   "source": [
    "start = RabbitState(['L', 'L', 'L', '_', 'R', 'R', 'R'])\n",
    "solution = rabbit_bfs(start)\n",
    "print(\"Rabbit BFS Solution:\")\n",
    "for s in solution:\n",
    "    print(s)"
   ]
  }
 ],
 "metadata": {
  "kernelspec": {
   "display_name": "Python 3",
   "language": "python",
   "name": "python3"
  },
  "language_info": {
   "codemirror_mode": {
    "name": "ipython",
    "version": 3
   },
   "file_extension": ".py",
   "mimetype": "text/x-python",
   "name": "python",
   "nbconvert_exporter": "python",
   "pygments_lexer": "ipython3",
   "version": "3.11.9"
  }
 },
 "nbformat": 4,
 "nbformat_minor": 5
}
